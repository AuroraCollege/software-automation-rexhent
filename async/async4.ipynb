{
 "cells": [
  {
   "cell_type": "markdown",
   "id": "528e6b15",
   "metadata": {},
   "source": [
    "# Async - Data Science\n",
    "Using the '[Sports Watch Data Set](https://www.w3schools.com/datascience/ds_linear_functions_graphic.asp)', optionally in Jupyter, try plotting a scatter plot of two variables (eg average pulse and max pulse) and adding a line that roughly captures the trend (using matplotlib). "
   ]
  },
  {
   "cell_type": "code",
   "execution_count": 19,
   "id": "3ab075a4",
   "metadata": {},
   "outputs": [
    {
     "data": {
      "application/vnd.microsoft.datawrangler.viewer.v0+json": {
       "columns": [
        {
         "name": "index",
         "rawType": "int64",
         "type": "integer"
        },
        {
         "name": "Duration",
         "rawType": "int64",
         "type": "integer"
        },
        {
         "name": "Average_Pulse",
         "rawType": "int64",
         "type": "integer"
        },
        {
         "name": "Max_Pulse",
         "rawType": "int64",
         "type": "integer"
        },
        {
         "name": "Calorie_Burnage",
         "rawType": "int64",
         "type": "integer"
        },
        {
         "name": "Hours_Work",
         "rawType": "int64",
         "type": "integer"
        },
        {
         "name": "Hours_Sleep",
         "rawType": "int64",
         "type": "integer"
        }
       ],
       "ref": "1e0c2ba4-0127-4c79-95aa-6fd2b9167891",
       "rows": [
        [
         "0",
         "30",
         "80",
         "120",
         "240",
         "10",
         "7"
        ],
        [
         "1",
         "45",
         "85",
         "120",
         "250",
         "10",
         "7"
        ],
        [
         "2",
         "45",
         "90",
         "130",
         "260",
         "8",
         "7"
        ],
        [
         "3",
         "60",
         "95",
         "130",
         "270",
         "8",
         "7"
        ],
        [
         "4",
         "60",
         "100",
         "140",
         "280",
         "0",
         "7"
        ]
       ],
       "shape": {
        "columns": 6,
        "rows": 5
       }
      },
      "text/html": [
       "<div>\n",
       "<style scoped>\n",
       "    .dataframe tbody tr th:only-of-type {\n",
       "        vertical-align: middle;\n",
       "    }\n",
       "\n",
       "    .dataframe tbody tr th {\n",
       "        vertical-align: top;\n",
       "    }\n",
       "\n",
       "    .dataframe thead th {\n",
       "        text-align: right;\n",
       "    }\n",
       "</style>\n",
       "<table border=\"1\" class=\"dataframe\">\n",
       "  <thead>\n",
       "    <tr style=\"text-align: right;\">\n",
       "      <th></th>\n",
       "      <th>Duration</th>\n",
       "      <th>Average_Pulse</th>\n",
       "      <th>Max_Pulse</th>\n",
       "      <th>Calorie_Burnage</th>\n",
       "      <th>Hours_Work</th>\n",
       "      <th>Hours_Sleep</th>\n",
       "    </tr>\n",
       "  </thead>\n",
       "  <tbody>\n",
       "    <tr>\n",
       "      <th>0</th>\n",
       "      <td>30</td>\n",
       "      <td>80</td>\n",
       "      <td>120</td>\n",
       "      <td>240</td>\n",
       "      <td>10</td>\n",
       "      <td>7</td>\n",
       "    </tr>\n",
       "    <tr>\n",
       "      <th>1</th>\n",
       "      <td>45</td>\n",
       "      <td>85</td>\n",
       "      <td>120</td>\n",
       "      <td>250</td>\n",
       "      <td>10</td>\n",
       "      <td>7</td>\n",
       "    </tr>\n",
       "    <tr>\n",
       "      <th>2</th>\n",
       "      <td>45</td>\n",
       "      <td>90</td>\n",
       "      <td>130</td>\n",
       "      <td>260</td>\n",
       "      <td>8</td>\n",
       "      <td>7</td>\n",
       "    </tr>\n",
       "    <tr>\n",
       "      <th>3</th>\n",
       "      <td>60</td>\n",
       "      <td>95</td>\n",
       "      <td>130</td>\n",
       "      <td>270</td>\n",
       "      <td>8</td>\n",
       "      <td>7</td>\n",
       "    </tr>\n",
       "    <tr>\n",
       "      <th>4</th>\n",
       "      <td>60</td>\n",
       "      <td>100</td>\n",
       "      <td>140</td>\n",
       "      <td>280</td>\n",
       "      <td>0</td>\n",
       "      <td>7</td>\n",
       "    </tr>\n",
       "  </tbody>\n",
       "</table>\n",
       "</div>"
      ],
      "text/plain": [
       "   Duration  Average_Pulse  Max_Pulse  Calorie_Burnage  Hours_Work  \\\n",
       "0        30             80        120              240          10   \n",
       "1        45             85        120              250          10   \n",
       "2        45             90        130              260           8   \n",
       "3        60             95        130              270           8   \n",
       "4        60            100        140              280           0   \n",
       "\n",
       "   Hours_Sleep  \n",
       "0            7  \n",
       "1            7  \n",
       "2            7  \n",
       "3            7  \n",
       "4            7  "
      ]
     },
     "execution_count": 19,
     "metadata": {},
     "output_type": "execute_result"
    }
   ],
   "source": [
    "import pandas as pd\n",
    "import matplotlib.pyplot as plt\n",
    "\n",
    "health_data = pd.read_csv(\"../datasets/sportswatch.csv\", header=0, sep=\",\")\n",
    "health_data.head()\n"
   ]
  },
  {
   "cell_type": "code",
   "execution_count": 23,
   "id": "a5ceef89",
   "metadata": {},
   "outputs": [],
   "source": [
    "# Create your plot here!"
   ]
  }
 ],
 "metadata": {
  "kernelspec": {
   "display_name": "Python 3",
   "language": "python",
   "name": "python3"
  },
  "language_info": {
   "codemirror_mode": {
    "name": "ipython",
    "version": 3
   },
   "file_extension": ".py",
   "mimetype": "text/x-python",
   "name": "python",
   "nbconvert_exporter": "python",
   "pygments_lexer": "ipython3",
   "version": "3.12.1"
  }
 },
 "nbformat": 4,
 "nbformat_minor": 5
}
