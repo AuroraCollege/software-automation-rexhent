{
 "cells": [
  {
   "cell_type": "markdown",
   "id": "a2f4ccc4",
   "metadata": {},
   "source": [
    "# Async - Linear Regression\n",
    "\n",
    "In this lesson you will create (and plot) a simple regression line for a dataset. You don't need to use any fancy math or fancy tools, you are just adjusting m and b until you have a trendline you are happy with. \n",
    "\n",
    "After this, you will calculate the various loss values (L1, L2, MAE, MSE). \n",
    "\n",
    "### Importing dependancies and data \n",
    "\n",
    "Let's start by importing what we need. "
   ]
  },
  {
   "cell_type": "code",
   "execution_count": 7,
   "id": "47baa151",
   "metadata": {},
   "outputs": [
    {
     "data": {
      "application/vnd.microsoft.datawrangler.viewer.v0+json": {
       "columns": [
        {
         "name": "index",
         "rawType": "int64",
         "type": "integer"
        },
        {
         "name": "Postcode",
         "rawType": "int64",
         "type": "integer"
        },
        {
         "name": "Count taxable income or loss",
         "rawType": "int64",
         "type": "integer"
        },
        {
         "name": "Average taxable income or loss",
         "rawType": "int64",
         "type": "integer"
        },
        {
         "name": "Median taxable income or loss",
         "rawType": "int64",
         "type": "integer"
        },
        {
         "name": "Count salary and wages",
         "rawType": "int64",
         "type": "integer"
        },
        {
         "name": "Average salary and wages",
         "rawType": "int64",
         "type": "integer"
        },
        {
         "name": "Median salary and wages",
         "rawType": "int64",
         "type": "integer"
        },
        {
         "name": "Count net rent",
         "rawType": "int64",
         "type": "integer"
        },
        {
         "name": "Average net rent",
         "rawType": "int64",
         "type": "integer"
        },
        {
         "name": "Median net rent",
         "rawType": "int64",
         "type": "integer"
        },
        {
         "name": "Count total income or loss",
         "rawType": "int64",
         "type": "integer"
        },
        {
         "name": "Average total income or loss",
         "rawType": "int64",
         "type": "integer"
        },
        {
         "name": "Median total income or loss",
         "rawType": "int64",
         "type": "integer"
        },
        {
         "name": "Count total deductions",
         "rawType": "int64",
         "type": "integer"
        },
        {
         "name": "Average total deductions",
         "rawType": "int64",
         "type": "integer"
        },
        {
         "name": "Median total deductions",
         "rawType": "int64",
         "type": "integer"
        },
        {
         "name": "Count total business income",
         "rawType": "int64",
         "type": "integer"
        },
        {
         "name": "Average total business income",
         "rawType": "int64",
         "type": "integer"
        },
        {
         "name": "Median total business income",
         "rawType": "int64",
         "type": "integer"
        },
        {
         "name": "Count  total business expenses",
         "rawType": "int64",
         "type": "integer"
        },
        {
         "name": "Average total business expenses",
         "rawType": "int64",
         "type": "integer"
        },
        {
         "name": "Median total business expenses",
         "rawType": "int64",
         "type": "integer"
        },
        {
         "name": "Count net tax",
         "rawType": "int64",
         "type": "integer"
        },
        {
         "name": "Average net tax",
         "rawType": "int64",
         "type": "integer"
        },
        {
         "name": "Median net tax",
         "rawType": "int64",
         "type": "integer"
        },
        {
         "name": "Count super total accounts balance",
         "rawType": "int64",
         "type": "integer"
        },
        {
         "name": "Average super total accounts balance",
         "rawType": "int64",
         "type": "integer"
        },
        {
         "name": "Median super total accounts balance",
         "rawType": "int64",
         "type": "integer"
        }
       ],
       "ref": "d8d2b283-94fc-445f-a5a8-eb96ea7e3f2a",
       "rows": [
        [
         "0",
         "2000",
         "36185",
         "47723",
         "18213",
         "31293",
         "38710",
         "17992",
         "3614",
         "558",
         "207",
         "36185",
         "50148",
         "18596",
         "36185",
         "2071",
         "0",
         "1928",
         "210901",
         "19684",
         "1331",
         "222191",
         "20773",
         "17264",
         "27555",
         "5917",
         "51394",
         "68531",
         "1110"
        ],
        [
         "1",
         "2006",
         "83",
         "80905",
         "58150",
         "74",
         "82733",
         "67658",
         "21",
         "1042",
         "-807",
         "83",
         "84710",
         "64709",
         "83",
         "3804",
         "641",
         "4",
         "69983",
         "42054",
         "4",
         "48971",
         "18508",
         "67",
         "28142",
         "19359",
         "137",
         "90315",
         "15544"
        ],
        [
         "2",
         "2007",
         "4769",
         "46549",
         "31474",
         "4153",
         "47386",
         "34366",
         "548",
         "-1242",
         "-794",
         "4769",
         "48309",
         "32568",
         "4769",
         "1740",
         "300",
         "384",
         "575099",
         "19960",
         "334",
         "639499",
         "9233",
         "3071",
         "15649",
         "9115",
         "6711",
         "41670",
         "5225"
        ],
        [
         "3",
         "2008",
         "5607",
         "108816",
         "41151",
         "5008",
         "53418",
         "42892",
         "612",
         "1818",
         "-1728",
         "5607",
         "112819",
         "42741",
         "5607",
         "3917",
         "430",
         "548",
         "53329",
         "19722",
         "481",
         "32173",
         "9385",
         "4061",
         "53976",
         "10583",
         "7676",
         "54245",
         "10373"
        ],
        [
         "4",
         "2009",
         "9726",
         "82938",
         "50604",
         "8167",
         "74068",
         "55243",
         "1714",
         "-2412",
         "-1520",
         "9726",
         "86503",
         "53311",
         "9726",
         "3433",
         "570",
         "736",
         "237539",
         "26044",
         "666",
         "222993",
         "11982",
         "7358",
         "32430",
         "14835",
         "12718",
         "126486",
         "20494"
        ]
       ],
       "shape": {
        "columns": 28,
        "rows": 5
       }
      },
      "text/html": [
       "<div>\n",
       "<style scoped>\n",
       "    .dataframe tbody tr th:only-of-type {\n",
       "        vertical-align: middle;\n",
       "    }\n",
       "\n",
       "    .dataframe tbody tr th {\n",
       "        vertical-align: top;\n",
       "    }\n",
       "\n",
       "    .dataframe thead th {\n",
       "        text-align: right;\n",
       "    }\n",
       "</style>\n",
       "<table border=\"1\" class=\"dataframe\">\n",
       "  <thead>\n",
       "    <tr style=\"text-align: right;\">\n",
       "      <th></th>\n",
       "      <th>Postcode</th>\n",
       "      <th>Count taxable income or loss</th>\n",
       "      <th>Average taxable income or loss</th>\n",
       "      <th>Median taxable income or loss</th>\n",
       "      <th>Count salary and wages</th>\n",
       "      <th>Average salary and wages</th>\n",
       "      <th>Median salary and wages</th>\n",
       "      <th>Count net rent</th>\n",
       "      <th>Average net rent</th>\n",
       "      <th>Median net rent</th>\n",
       "      <th>...</th>\n",
       "      <th>Median total business income</th>\n",
       "      <th>Count  total business expenses</th>\n",
       "      <th>Average total business expenses</th>\n",
       "      <th>Median total business expenses</th>\n",
       "      <th>Count net tax</th>\n",
       "      <th>Average net tax</th>\n",
       "      <th>Median net tax</th>\n",
       "      <th>Count super total accounts balance</th>\n",
       "      <th>Average super total accounts balance</th>\n",
       "      <th>Median super total accounts balance</th>\n",
       "    </tr>\n",
       "  </thead>\n",
       "  <tbody>\n",
       "    <tr>\n",
       "      <th>0</th>\n",
       "      <td>2000</td>\n",
       "      <td>36185</td>\n",
       "      <td>47723</td>\n",
       "      <td>18213</td>\n",
       "      <td>31293</td>\n",
       "      <td>38710</td>\n",
       "      <td>17992</td>\n",
       "      <td>3614</td>\n",
       "      <td>558</td>\n",
       "      <td>207</td>\n",
       "      <td>...</td>\n",
       "      <td>19684</td>\n",
       "      <td>1331</td>\n",
       "      <td>222191</td>\n",
       "      <td>20773</td>\n",
       "      <td>17264</td>\n",
       "      <td>27555</td>\n",
       "      <td>5917</td>\n",
       "      <td>51394</td>\n",
       "      <td>68531</td>\n",
       "      <td>1110</td>\n",
       "    </tr>\n",
       "    <tr>\n",
       "      <th>1</th>\n",
       "      <td>2006</td>\n",
       "      <td>83</td>\n",
       "      <td>80905</td>\n",
       "      <td>58150</td>\n",
       "      <td>74</td>\n",
       "      <td>82733</td>\n",
       "      <td>67658</td>\n",
       "      <td>21</td>\n",
       "      <td>1042</td>\n",
       "      <td>-807</td>\n",
       "      <td>...</td>\n",
       "      <td>42054</td>\n",
       "      <td>4</td>\n",
       "      <td>48971</td>\n",
       "      <td>18508</td>\n",
       "      <td>67</td>\n",
       "      <td>28142</td>\n",
       "      <td>19359</td>\n",
       "      <td>137</td>\n",
       "      <td>90315</td>\n",
       "      <td>15544</td>\n",
       "    </tr>\n",
       "    <tr>\n",
       "      <th>2</th>\n",
       "      <td>2007</td>\n",
       "      <td>4769</td>\n",
       "      <td>46549</td>\n",
       "      <td>31474</td>\n",
       "      <td>4153</td>\n",
       "      <td>47386</td>\n",
       "      <td>34366</td>\n",
       "      <td>548</td>\n",
       "      <td>-1242</td>\n",
       "      <td>-794</td>\n",
       "      <td>...</td>\n",
       "      <td>19960</td>\n",
       "      <td>334</td>\n",
       "      <td>639499</td>\n",
       "      <td>9233</td>\n",
       "      <td>3071</td>\n",
       "      <td>15649</td>\n",
       "      <td>9115</td>\n",
       "      <td>6711</td>\n",
       "      <td>41670</td>\n",
       "      <td>5225</td>\n",
       "    </tr>\n",
       "    <tr>\n",
       "      <th>3</th>\n",
       "      <td>2008</td>\n",
       "      <td>5607</td>\n",
       "      <td>108816</td>\n",
       "      <td>41151</td>\n",
       "      <td>5008</td>\n",
       "      <td>53418</td>\n",
       "      <td>42892</td>\n",
       "      <td>612</td>\n",
       "      <td>1818</td>\n",
       "      <td>-1728</td>\n",
       "      <td>...</td>\n",
       "      <td>19722</td>\n",
       "      <td>481</td>\n",
       "      <td>32173</td>\n",
       "      <td>9385</td>\n",
       "      <td>4061</td>\n",
       "      <td>53976</td>\n",
       "      <td>10583</td>\n",
       "      <td>7676</td>\n",
       "      <td>54245</td>\n",
       "      <td>10373</td>\n",
       "    </tr>\n",
       "    <tr>\n",
       "      <th>4</th>\n",
       "      <td>2009</td>\n",
       "      <td>9726</td>\n",
       "      <td>82938</td>\n",
       "      <td>50604</td>\n",
       "      <td>8167</td>\n",
       "      <td>74068</td>\n",
       "      <td>55243</td>\n",
       "      <td>1714</td>\n",
       "      <td>-2412</td>\n",
       "      <td>-1520</td>\n",
       "      <td>...</td>\n",
       "      <td>26044</td>\n",
       "      <td>666</td>\n",
       "      <td>222993</td>\n",
       "      <td>11982</td>\n",
       "      <td>7358</td>\n",
       "      <td>32430</td>\n",
       "      <td>14835</td>\n",
       "      <td>12718</td>\n",
       "      <td>126486</td>\n",
       "      <td>20494</td>\n",
       "    </tr>\n",
       "  </tbody>\n",
       "</table>\n",
       "<p>5 rows × 28 columns</p>\n",
       "</div>"
      ],
      "text/plain": [
       "   Postcode  Count taxable income or loss  Average taxable income or loss  \\\n",
       "0      2000                         36185                           47723   \n",
       "1      2006                            83                           80905   \n",
       "2      2007                          4769                           46549   \n",
       "3      2008                          5607                          108816   \n",
       "4      2009                          9726                           82938   \n",
       "\n",
       "   Median taxable income or loss  Count salary and wages  \\\n",
       "0                          18213                   31293   \n",
       "1                          58150                      74   \n",
       "2                          31474                    4153   \n",
       "3                          41151                    5008   \n",
       "4                          50604                    8167   \n",
       "\n",
       "   Average salary and wages  Median salary and wages  Count net rent  \\\n",
       "0                     38710                    17992            3614   \n",
       "1                     82733                    67658              21   \n",
       "2                     47386                    34366             548   \n",
       "3                     53418                    42892             612   \n",
       "4                     74068                    55243            1714   \n",
       "\n",
       "   Average net rent  Median net rent  ...  Median total business income  \\\n",
       "0               558              207  ...                         19684   \n",
       "1              1042             -807  ...                         42054   \n",
       "2             -1242             -794  ...                         19960   \n",
       "3              1818            -1728  ...                         19722   \n",
       "4             -2412            -1520  ...                         26044   \n",
       "\n",
       "   Count  total business expenses  Average total business expenses  \\\n",
       "0                            1331                           222191   \n",
       "1                               4                            48971   \n",
       "2                             334                           639499   \n",
       "3                             481                            32173   \n",
       "4                             666                           222993   \n",
       "\n",
       "   Median total business expenses  Count net tax  Average net tax  \\\n",
       "0                           20773          17264            27555   \n",
       "1                           18508             67            28142   \n",
       "2                            9233           3071            15649   \n",
       "3                            9385           4061            53976   \n",
       "4                           11982           7358            32430   \n",
       "\n",
       "   Median net tax  Count super total accounts balance  \\\n",
       "0            5917                               51394   \n",
       "1           19359                                 137   \n",
       "2            9115                                6711   \n",
       "3           10583                                7676   \n",
       "4           14835                               12718   \n",
       "\n",
       "   Average super total accounts balance  Median super total accounts balance  \n",
       "0                                 68531                                 1110  \n",
       "1                                 90315                                15544  \n",
       "2                                 41670                                 5225  \n",
       "3                                 54245                                10373  \n",
       "4                                126486                                20494  \n",
       "\n",
       "[5 rows x 28 columns]"
      ]
     },
     "execution_count": 7,
     "metadata": {},
     "output_type": "execute_result"
    }
   ],
   "source": [
    "# Import dependancies \n",
    "import numpy as np\n",
    "import pandas as pd\n",
    "import matplotlib.pyplot as plt\n",
    "\n",
    "# Load the dataset\n",
    "dataset = pd.read_csv('../datasets/taxstats2015individual28countaveragemedianbypostcode.csv')\n",
    "dataset.head()"
   ]
  },
  {
   "cell_type": "markdown",
   "id": "4122586c",
   "metadata": {},
   "source": [
    "### Postcode Linear Regression\n",
    "\n",
    "Here is my very poor model, predicting tax based on postcode. Note that its not very effective, as you can see in the plot. "
   ]
  },
  {
   "cell_type": "code",
   "execution_count": 8,
   "id": "a4ad1560",
   "metadata": {},
   "outputs": [
    {
     "data": {
      "image/png": "[encoded data removed]",
      "text/plain": [
       "<Figure size 640x480 with 1 Axes>"
      ]
     },
     "metadata": {},
     "output_type": "display_data"
    }
   ],
   "source": [
    "def y_postcode(x):\n",
    "    ''' This simple function takes a postcode and returns the average net tax. \n",
    "    It does a poor job!'''\n",
    "    return -10*x + 80000\n",
    "\n",
    "plt.scatter(dataset['Postcode'], dataset['Average net tax'])\n",
    "plt.xlabel('Postcode')\n",
    "plt.ylabel('Average net tax')\n",
    "\n",
    "predicted_y_postcode = y_postcode(dataset['Postcode']) #Here we use the function to predict y values based on x values\n",
    "plt.plot(dataset['Postcode'], predicted_y_postcode, color='red')\n",
    "\n",
    "plt.show()"
   ]
  },
  {
   "cell_type": "markdown",
   "id": "3d8a3f73",
   "metadata": {},
   "source": [
    "### Improved Linear Regression\n",
    "\n",
    "Now it's your turn. You can copy down the code from above if you wish. You should choose another column from the dataset, plot it against 'Average Net Tax', then create a function (with an m and b), and plot it over the top as a line (just like the example above). "
   ]
  },
  {
   "cell_type": "code",
   "execution_count": 9,
   "id": "0982355d",
   "metadata": {},
   "outputs": [
    {
     "data": {
      "image/png": "[encoded data removed]",
      "text/plain": [
       "<Figure size 640x480 with 1 Axes>"
      ]
     },
     "metadata": {},
     "output_type": "display_data"
    }
   ],
   "source": [
    "# Select a different column in the dataset, and create a scatter plot for it \n",
    "# Try predicting a better trendline (have a few quesses until you have an m and b you are happy with)\n",
    "# Plot the two together, as I have done above\n",
    "\n",
    "# Example Solution\n",
    "def y_new(x):\n",
    "    ''' This simple function takes a postcode and returns the average net tax. \n",
    "    It does a poor job!'''\n",
    "    return .5*x - 10000\n",
    "\n",
    "plt.scatter(dataset['Average total income or loss'], dataset['Average net tax'])\n",
    "plt.xlabel('Average total income or loss')\n",
    "plt.ylabel('Average net tax')\n",
    "\n",
    "predicted_y_income = y_new(dataset['Average total income or loss']) #Here we use the function to predict y values based on x values\n",
    "plt.plot(dataset['Average total income or loss'], predicted_y_income, color='red')\n",
    "\n",
    "plt.show()\n"
   ]
  },
  {
   "cell_type": "markdown",
   "id": "5922010c",
   "metadata": {},
   "source": [
    "### Loss\n",
    "Now it's time to evaluate the models! \n",
    "\n",
    "Calculate the L1, L2, MAE and MSE for the existing postcode model and for your new and improved model. "
   ]
  },
  {
   "cell_type": "code",
   "execution_count": 16,
   "id": "9afb9511",
   "metadata": {},
   "outputs": [
    {
     "name": "stdout",
     "output_type": "stream",
     "text": [
      "Loss of postcode model:\n",
      "L1 loss: 61106618.00\n",
      "MAE loss: 24709.51\n",
      "L2 loss: 1999895075746.00\n",
      "MSE loss: 808691902.85\n",
      "\n",
      "Loss of income model:\n",
      "L1 loss: 6394209.50\n",
      "MAE loss: 2585.61\n",
      "L2 loss: 24085481978.75\n",
      "MSE loss: 9739378.07\n"
     ]
    }
   ],
   "source": [
    "# Calculate L1, L2, MAE and MSE for the existing postcode model and for your new and improved model\n",
    "\n",
    "def losses(model_predictions, actual_values):\n",
    "    l1_losses = abs(model_predictions - actual_values)\n",
    "    l2_losses = np.square(l1_losses)\n",
    "    print(f'L1 loss: {l1_losses.sum():.2f}')\n",
    "    print(f'MAE loss: {l1_losses.mean():.2f}')\n",
    "    print(f'L2 loss: {l2_losses.sum():.2f}')\n",
    "    print(f'MSE loss: {l2_losses.mean():.2f}')\n",
    "\n",
    "print('Loss of postcode model:')\n",
    "losses(predicted_y_postcode, dataset['Average net tax'])\n",
    "print()\n",
    "print('Loss of income model:')\n",
    "losses(predicted_y_income, dataset['Average net tax'])"
   ]
  }
 ],
 "metadata": {
  "kernelspec": {
   "display_name": "Python 3",
   "language": "python",
   "name": "python3"
  },
  "language_info": {
   "codemirror_mode": {
    "name": "ipython",
    "version": 3
   },
   "file_extension": ".py",
   "mimetype": "text/x-python",
   "name": "python",
   "nbconvert_exporter": "python",
   "pygments_lexer": "ipython3",
   "version": "3.12.1"
  }
 },
 "nbformat": 4,
 "nbformat_minor": 5
}
