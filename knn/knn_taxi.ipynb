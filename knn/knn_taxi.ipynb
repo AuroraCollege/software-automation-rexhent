{
 "cells": [
  {
   "cell_type": "markdown",
   "id": "5267ba93",
   "metadata": {},
   "source": [
    "# K-Nearest Neighbor\n",
    "\n",
    "A simple hands-on explanation."
   ]
  },
  {
   "cell_type": "code",
   "execution_count": null,
   "id": "de69d5da",
   "metadata": {},
   "outputs": [],
   "source": [
    "# Import frameworks\n",
    "import numpy as np\n",
    "import pandas as pd\n",
    "import matplotlib.pyplot as plt\n",
    "\n",
    "data_frame = pd.read_csv(\"../datasets/chicago_taxi_train.csv\")\n",
    "data_frame.head()"
   ]
  },
  {
   "cell_type": "markdown",
   "id": "2e5ecbb6",
   "metadata": {},
   "source": [
    "We're going to try to predict the _payment type_ based on two other variables. Let's try _trip_start_hour_ and _fare_. We'll break the payments types into cash and other to simplify the process, then plot the data on a 2-D graph."
   ]
  },
  {
   "cell_type": "code",
   "execution_count": null,
   "id": "97668ed4",
   "metadata": {},
   "outputs": [],
   "source": [
    "types = data_frame['PAYMENT_TYPE'].unique()\n",
    "for i, type in enumerate(types):\n",
    "    subset = data_frame[data_frame['PAYMENT_TYPE'] == type]\n",
    "    plt.scatter(subset['TRIP_START_HOUR'], subset['FARE'], label=type, s=5)\n",
    "\n",
    "\n",
    "plt.title(f\"Scatter of {data_frame['TRIP_START_HOUR'].name} against {data_frame['FARE'].name}\")\n",
    "plt.ylabel(f'{data_frame['FARE'].name} Data')\n",
    "plt.xlabel(f'{data_frame['TRIP_START_HOUR'].name} Data')\n",
    "plt.legend()\n",
    "plt.show()"
   ]
  },
  {
   "cell_type": "markdown",
   "id": "6800006c",
   "metadata": {},
   "source": [
    "This is too many points to really see what's going on. Lets try the same thing with a smaller subset..."
   ]
  },
  {
   "cell_type": "code",
   "execution_count": null,
   "id": "b70d0c68",
   "metadata": {},
   "outputs": [],
   "source": [
    "mini_frame = data_frame[0:50]\n",
    "\n",
    "types = mini_frame['PAYMENT_TYPE'].unique()\n",
    "for i, type in enumerate(types):\n",
    "    subset = mini_frame[mini_frame['PAYMENT_TYPE'] == type]\n",
    "    plt.scatter(subset['TRIP_START_HOUR'], subset['FARE'], label=type)\n",
    "\n",
    "#plt.scatter(data_frame['TRIP_START_HOUR'], data_frame['FARE'], s=5)\n",
    "plt.title(f\"Scatter of {mini_frame['TRIP_START_HOUR'].name} against {mini_frame['FARE'].name}\")\n",
    "plt.ylabel(f'{mini_frame['FARE'].name} Data')\n",
    "plt.xlabel(f'{mini_frame['TRIP_START_HOUR'].name} Data')\n",
    "plt.legend()\n",
    "plt.show()"
   ]
  },
  {
   "cell_type": "markdown",
   "id": "bcc5521d",
   "metadata": {},
   "source": [
    "The goal now is to calculate how far any given point is from all the other points. Once this is done, we can choose the closest few and decide it must belong with them."
   ]
  },
  {
   "cell_type": "code",
   "execution_count": null,
   "id": "ba807916",
   "metadata": {},
   "outputs": [],
   "source": [
    "import math\n",
    "\n",
    "# Let's imagine we take a $25 trip at 4PM:\n",
    "target = [16,20]\n",
    "# And plot it with a big X\n",
    "plt.scatter(target[0],target[1],marker='x',s=100)\n",
    "\n",
    "mini_frame = data_frame[0:20]\n",
    "\n",
    "types = mini_frame['PAYMENT_TYPE'].unique()\n",
    "for i, type in enumerate(types):\n",
    "    subset = mini_frame[mini_frame['PAYMENT_TYPE'] == type]\n",
    "    plt.scatter(subset['TRIP_START_HOUR'], subset['FARE'], label=type)\n",
    "\n",
    "plt.title(f\"Scatter of {mini_frame['TRIP_START_HOUR'].name} against {mini_frame['FARE'].name}\")\n",
    "plt.ylabel(f'{mini_frame['FARE'].name} Data')\n",
    "plt.xlabel(f'{mini_frame['TRIP_START_HOUR'].name} Data')\n",
    "plt.legend()\n",
    "plt.show()"
   ]
  },
  {
   "cell_type": "markdown",
   "id": "9d99397d",
   "metadata": {},
   "source": [
    "Now we need to determine how far it is from each point in the mini_frame. \n",
    "\n",
    "Modify the following code to calculate the euclidean distance to each point in the dataframe. \n",
    "\n",
    "You should use _pythagorus' theorum_. For each point, find the distance from the target[0] to mini_frame['TRIP_START_HOUR'], square it, add it to the distance from target[1] to mini_frame['FARE'], take the square root, and store it in mini_frame['EUCLIDEAN_DISTANCE']. "
   ]
  },
  {
   "cell_type": "code",
   "execution_count": null,
   "id": "eccaee1c",
   "metadata": {},
   "outputs": [],
   "source": [
    "# Calculate Euclidean distance for each point in mini_frame\n",
    "mini_frame['EUCLIDEAN_DISTANCE'] = np.sqrt((mini_frame['TRIP_START_HOUR'] - target[0])**2 + (mini_frame['FARE'] - target[1])**2)\n",
    "\n",
    "# Display the mini_frame with distances\n",
    "mini_frame[['TRIP_START_HOUR', 'FARE', 'PAYMENT_TYPE', 'EUCLIDEAN_DISTANCE']].head()\n"
   ]
  },
  {
   "cell_type": "code",
   "execution_count": null,
   "id": "9c693708",
   "metadata": {},
   "outputs": [],
   "source": [
    "plt.scatter(mini_frame['TRIP_START_HOUR'], mini_frame['FARE'], c=mini_frame['EUCLIDEAN_DISTANCE'], cmap='viridis')\n",
    "plt.scatter(target[0],target[1],marker='x',s=100)\n",
    "plt.title(f\"Scatter of {mini_frame['TRIP_START_HOUR'].name} against {mini_frame['FARE'].name}\")\n",
    "plt.ylabel(f'{mini_frame['FARE'].name} Data')\n",
    "plt.xlabel(f'{mini_frame['TRIP_START_HOUR'].name} Data')\n",
    "plt.legend()\n",
    "plt.colorbar(label='Euclidian Distance from Target')\n",
    "plt.show()"
   ]
  },
  {
   "cell_type": "code",
   "execution_count": null,
   "id": "241585c8",
   "metadata": {},
   "outputs": [],
   "source": [
    "\n",
    "# Lets take a look at the closest points to our target\n",
    "mini_frame.sort_values(by='EUCLIDEAN_DISTANCE', inplace=True)\n",
    "mini_frame[['TRIP_START_HOUR', 'FARE', 'PAYMENT_TYPE', 'EUCLIDEAN_DISTANCE']][:9]"
   ]
  },
  {
   "cell_type": "markdown",
   "id": "070429c7",
   "metadata": {},
   "source": [
    "Looking at this particular set, we can see that of the nine closest points, four are cash, three are credit card, one is mobile and one is Prcard. Since cash is the most common payment type among the nine closest points, we can predict that this point will be cash.\n",
    "\n",
    "Clearly the number of points we choose to consider will affect the outcome. If we choose only one point, then the prediction will always be the same as that point. Each problem needs to be thoroughly considered to determine the best number of points to use.\n",
    "\n",
    "Now lets apply this logic to the entire dataset."
   ]
  },
  {
   "cell_type": "code",
   "execution_count": null,
   "id": "b00ef520",
   "metadata": {},
   "outputs": [],
   "source": [
    "target = [2, 10]  # Example target trip start hour and fare\n",
    "\n",
    "data_frame['EUCLIDEAN_DISTANCE'] = np.sqrt((data_frame['TRIP_START_HOUR'] - target[0])**2 + (data_frame['FARE'] - target[1])**2)\n",
    "\n",
    "plt.scatter(data_frame['TRIP_START_HOUR'], data_frame['FARE'], c=data_frame['EUCLIDEAN_DISTANCE'], cmap='viridis', s=5)\n",
    "plt.scatter(target[0], target[1], marker='x', s=100)\n",
    "plt.title(f\"Scatter of {data_frame['TRIP_START_HOUR'].name} against {data_frame['FARE'].name}\")\n",
    "plt.ylabel(f'{data_frame['FARE'].name} Data')\n",
    "plt.xlabel(f'{data_frame['TRIP_START_HOUR'].name} Data')\n",
    "plt.legend()\n",
    "plt.show()\n",
    "\n",
    "data_frame.sort_values(by='EUCLIDEAN_DISTANCE', inplace=True)\n",
    "data_frame[['TRIP_START_HOUR', 'FARE', 'PAYMENT_TYPE', 'EUCLIDEAN_DISTANCE']][:5]"
   ]
  },
  {
   "cell_type": "markdown",
   "id": "ec2a2b8b",
   "metadata": {},
   "source": [
    "Perhaps this indicates that a $10 fare at 2:00 PM is more likely to be cash.\n",
    "\n",
    "Consider how many calculation were required to do this. For each point, we had to calculate the distance to every other point, then sort them and choose the closest few. This is a lot of work, especially if we have a lot of points. This dataset has 31,694 taxi trips. Every time we predict a point, we have to do this all over again for every data point. This is why KNN is not used for large datasets.\n",
    "\n",
    "Your challenges now are:\n",
    "1. Modify the KNN to use different variables from the dataframe, and see if you can build a better model!\n",
    "1. Build a KNN model on one of the other included datasets!\n",
    "1. Identify uses for a KNN model.\n",
    "1. Summarise the strengths and weaknesses of this model compared to other models we have studied. "
   ]
  }
 ],
 "metadata": {
  "kernelspec": {
   "display_name": "Python 3",
   "language": "python",
   "name": "python3"
  },
  "language_info": {
   "codemirror_mode": {
    "name": "ipython",
    "version": 3
   },
   "file_extension": ".py",
   "mimetype": "text/x-python",
   "name": "python",
   "nbconvert_exporter": "python",
   "pygments_lexer": "ipython3",
   "version": "3.12.1"
  }
 },
 "nbformat": 4,
 "nbformat_minor": 5
}
