{
 "cells": [
  {
   "cell_type": "code",
   "execution_count": 2,
   "id": "8aac3737-91d4-45bb-9684-38bf70e2c54a",
   "metadata": {},
   "outputs": [
    {
     "ename": "SyntaxError",
     "evalue": "unterminated string literal (detected at line 1) (341578392.py, line 1)",
     "output_type": "error",
     "traceback": [
      "  \u001b[36mCell\u001b[39m\u001b[36m \u001b[39m\u001b[32mIn[2]\u001b[39m\u001b[32m, line 1\u001b[39m\n\u001b[31m    \u001b[39m\u001b[31ml1_losses = predicted_y - dataset[;Average net tax']\u001b[39m\n                                                      ^\n\u001b[31mSyntaxError\u001b[39m\u001b[31m:\u001b[39m unterminated string literal (detected at line 1)\n"
     ]
    }
   ],
   "source": [
    "l1_losses = predicted_y - dataset[;Average net tax']\n",
    "l2_losses = np.square(l1_losses)\n",
    "\n",
    "print(f' L1 loss: {l1.losses.sum()}')\n",
    "print(f'MAE loss: {l1.losses.mean()}')"
   ]
  },
  {
   "cell_type": "code",
   "execution_count": null,
   "id": "ad375910-d6fe-457e-b042-6835ae5bb856",
   "metadata": {},
   "outputs": [],
   "source": []
  }
 ],
 "metadata": {
  "kernelspec": {
   "display_name": "Python 3 (ipykernel)",
   "language": "python",
   "name": "python3"
  },
  "language_info": {
   "codemirror_mode": {
    "name": "ipython",
    "version": 3
   },
   "file_extension": ".py",
   "mimetype": "text/x-python",
   "name": "python",
   "nbconvert_exporter": "python",
   "pygments_lexer": "ipython3",
   "version": "3.12.1"
  }
 },
 "nbformat": 4,
 "nbformat_minor": 5
}
